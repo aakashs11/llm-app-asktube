{
 "cells": [
  {
   "cell_type": "code",
   "execution_count": 14,
   "metadata": {},
   "outputs": [],
   "source": [
    "import openai\n",
    "from youtube_transcript_api import YouTubeTranscriptApi\n",
    "from llama_index.core import VectorStoreIndex, SimpleDirectoryReader, StorageContext, Document\n",
    "from llama_index.core import (\n",
    "    load_index_from_storage,\n",
    "    load_indices_from_storage,\n",
    "    load_graph_from_storage,\n",
    ")\n",
    "from llama_index.llms.openai import OpenAI\n",
    "from llama_index.embeddings.openai import OpenAIEmbedding\n",
    "from llama_index.core.memory import ChatMemoryBuffer\n",
    "import os\n",
    "import openai\n",
    "client = OpenAI()\n",
    "from youtube_transcript_api import YouTubeTranscriptApi\n",
    "from urllib.parse import urlparse, parse_qs\n",
    "\n",
    "\n",
    "\n",
    "# Function to extract video ID from YouTube URL\n",
    "def extract_video_id(url):\n",
    "    query = urlparse(url)\n",
    "    if query.hostname == 'youtu.be':\n",
    "        return query.path[1:]\n",
    "    if query.hostname in ('www.youtube.com', 'youtube.com'):\n",
    "        if query.path == '/watch':\n",
    "            return parse_qs(query.query)['v'][0]\n",
    "        if query.path[:7] == '/embed/':\n",
    "            return query.path.split('/')[2]\n",
    "        if query.path[:3] == '/v/':\n",
    "            return query.path.split('/')[2]\n",
    "    return None\n",
    "\n",
    "# Function to fetch YouTube transcript\n",
    "def get_youtube_transcript(video_url):\n",
    "    video_id = extract_video_id(video_url)\n",
    "    if video_id:\n",
    "        try:\n",
    "            transcript = YouTubeTranscriptApi.get_transcript(video_id)\n",
    "            full_transcript = \" \".join([t['text'] for t in transcript])\n",
    "            return full_transcript\n",
    "        except Exception as e:\n",
    "            return f\"Error: {str(e)}\"\n",
    "    return \"Invalid URL\"\n",
    "\n",
    "# Fetch YouTube transcript\n",
    "video_url = \"https://www.youtube.com/watch?v=aQDOU3hPci0\"  # Replace with your video URL\n",
    "document = get_youtube_transcript(video_url)\n",
    "#save as a file\n",
    "with open(\"transcript.txt\", \"w\") as file:\n",
    "    file.write(document)\n",
    "\n",
    "\n",
    "\n",
    "#create rag agent\n",
    "llm = OpenAI(model=\"gpt-4o\", temperature=0)\n",
    "\n",
    "\n",
    "documents = [Document(text=document , extra_info={})]\n",
    "index = VectorStoreIndex.from_documents(documents)\n",
    "\n",
    "memory = ChatMemoryBuffer.from_defaults()\n",
    "chat_engine = index.as_chat_engine(\n",
    "    chat_mode=\"context\",\n",
    "    memory=memory,\n",
    "    system_prompt=\"\"\"\n",
    "    Imagine you're a friendly teacher who's here to help. \n",
    "    When you answer questions, keep it casual and engaging—like you're talking to a 16-year-old student who’s curious to learn more.\n",
    "    Make sure your explanations are clear and straight to the point, but feel free to keep things light and relatable.\n",
    "    Avoid using big words or complicated terms unless absolutely necessary, and when you do, break them down into simple, easy-to-understand language.\n",
    "    Encourage questions and curiosity, and always stay positive and supportive. \n",
    "    If things get a little off-topic or inappropriate, kindly guide the conversation back to the subject in a helpful way.\n",
    "    Use examples and fun analogies to explain tricky concepts, and make sure your answers feel approachable and motivating.\n",
    "    Remember, you're here to help the student feel confident and excited about learning!\n",
    "\n",
    "    Rules:\n",
    "    1. ALWAYS DISPLAY A MESSAGE WHEN UNETHICAL, SEXUALLY EXPLICIT, OR HATE SPEECH IS DETECTED. MESSAGE SHOULD BE IN THE FOLLOWING FORMAT:\n",
    "    \"Hey! I'm sorry, but I can't assist with that. My capabilities are limited to providing information based on the video's content. \n",
    "    Please keep the conversation respectful and appropriate. Thank you!\"\n",
    "    2. STRICTLY FOLLOW THE RULES MENTIONED ABOVE.\n",
    "    \"\"\"\n",
    ")\n",
    "\n",
    "def asktube(query):\n",
    "    response = chat_engine.chat(query)\n",
    "    return response.response\n",
    "\n"
   ]
  },
  {
   "cell_type": "code",
   "execution_count": 18,
   "metadata": {},
   "outputs": [
    {
     "data": {
      "text/plain": [
       "'The video is about the concept of growth mindset and how our brains have the capacity to change and grow throughout our lives. It discusses how adopting a growth mindset, which is the belief that our abilities are not fixed but can be developed through effort and learning, can lead to positive outcomes in various aspects of life. The video also touches on how stress can actually enhance performance and how understanding these concepts can have a powerful impact on our self-regard, learning, and overall success. It provides insights and tools based on scientific research to help build a growth mindset and leverage stress for better performance.'"
      ]
     },
     "execution_count": 18,
     "metadata": {},
     "output_type": "execute_result"
    }
   ],
   "source": [
    "asktube(input())\n"
   ]
  },
  {
   "cell_type": "code",
   "execution_count": 7,
   "metadata": {},
   "outputs": [
    {
     "data": {
      "text/plain": [
       "[Document(id_='f362a000-d3c7-482a-9055-a3919d695e96', embedding=None, metadata={}, excluded_embed_metadata_keys=[], excluded_llm_metadata_keys=[], relationships={}, text=\"[Music] we're no strangers to love you know the rules and so do I I full commitments while I'm thinking of you wouldn't get this from any other guy I just want to tell you how I'm feeling got to make you understand Never Going To Give You Up never going to let you down never going to run around and desert you never going to make you cry never going to say goodbye never going to tell a lie and hurt you we've known each other for so long your heart's been aching but your to sh to say it inside we both know what's been going on we know the game and we're going to playing and if you ask me how I'm feeling don't tell me you're too my you see Never Going To Give You Up never going to let you down never to run around and desert you never going to make you cry never going to say goodbye never going to tell a lie and hurt you never going to give you up never going to let you down never going to run around and desert you never going to make you cry never going to sing goodbye going to tell a lie and hurt you give you give you going to give going to give you going to give going to give you we've known each other for so long your heart's been aching but you're too sh to say inside we both know what's been going on we the game and we're going to play it I just want to tell you how I'm feeling got to make you understand Never Going To Give You Up never going to let you down never going to run around and desert you never going to make you cry never going to say goodbye never going to tell you my and Hurt You Never Going To Give You Up never going to let you down never going to run around and desert you never going to make you C never going to say goodbye never going to tell and Hur You Never Going To Give You Up never going to let you down never going to run around and desert you never going to make you going to [Music] goodbye and\", mimetype='text/plain', start_char_idx=None, end_char_idx=None, text_template='{metadata_str}\\n\\n{content}', metadata_template='{key}: {value}', metadata_seperator='\\n')]"
      ]
     },
     "execution_count": 7,
     "metadata": {},
     "output_type": "execute_result"
    }
   ],
   "source": [
    "documents \n"
   ]
  },
  {
   "cell_type": "code",
   "execution_count": null,
   "metadata": {},
   "outputs": [],
   "source": []
  }
 ],
 "metadata": {
  "kernelspec": {
   "display_name": ".venv",
   "language": "python",
   "name": "python3"
  },
  "language_info": {
   "codemirror_mode": {
    "name": "ipython",
    "version": 3
   },
   "file_extension": ".py",
   "mimetype": "text/x-python",
   "name": "python",
   "nbconvert_exporter": "python",
   "pygments_lexer": "ipython3",
   "version": "3.10.11"
  }
 },
 "nbformat": 4,
 "nbformat_minor": 2
}
